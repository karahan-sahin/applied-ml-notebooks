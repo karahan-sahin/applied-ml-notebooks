{
 "cells": [
  {
   "cell_type": "code",
   "execution_count": null,
   "metadata": {},
   "outputs": [],
   "source": [
    "import numpy as np\n",
    "import pandas as pd\n",
    "import matplotlib.pyplot as plt\n",
    "import seaborn as sns"
   ]
  },
  {
   "cell_type": "code",
   "execution_count": null,
   "metadata": {},
   "outputs": [],
   "source": [
    "data = pd.read_csv(\"data.csv\")"
   ]
  },
  {
   "cell_type": "code",
   "execution_count": null,
   "metadata": {},
   "outputs": [],
   "source": [
    "data.head()"
   ]
  },
  {
   "cell_type": "code",
   "execution_count": null,
   "metadata": {},
   "outputs": [],
   "source": [
    "grouped_by_year = data.groupby(['year']).mean() # mean values of song features grouped by their year of release\n",
    "years = range(1920,2022) # years of release\n",
    "grouped_by_year.head()"
   ]
  },
  {
   "cell_type": "code",
   "execution_count": null,
   "metadata": {},
   "outputs": [],
   "source": [
    "plt.plot(years,grouped_by_year['danceability']) # time series of mean danceability of songs\n",
    "\n",
    "plt.xlabel(\"Year\")\n",
    "plt.ylabel(\"Danceability\")\n",
    "plt.title(\"Mean Danceability of Songs by Year\")\n",
    "\n",
    "plt.show()\n",
    "\n",
    "print(f\"Standart deviation of Danceability= {grouped_by_year['danceability'].std()}\") # It is not very far from mean"
   ]
  },
  {
   "cell_type": "code",
   "execution_count": null,
   "metadata": {},
   "outputs": [],
   "source": [
    "plt.plot(years,grouped_by_year['energy']) # Increase from 60's\n",
    "\n",
    "plt.xlabel('Year')\n",
    "plt.ylabel(\"Energy\")\n",
    "plt.title(\"Mean Energy of Songs by Years\") \n",
    "\n",
    "plt.show()\n",
    "\n",
    "print(f\"Standart deviation of Energy= {grouped_by_year['energy'].std()}\") # It is not very far from mean"
   ]
  },
  {
   "cell_type": "code",
   "execution_count": null,
   "metadata": {},
   "outputs": [],
   "source": [
    "sns.heatmap(data=grouped_by_year[[\"energy\", \"danceability\"]]) # given that energy is a relative metric to danceability\n",
    "plt.title(\"Heatmap between Acousticness and Energy\")          # heatmap shows independency"
   ]
  },
  {
   "cell_type": "code",
   "execution_count": null,
   "metadata": {},
   "outputs": [],
   "source": [
    "sns.scatterplot(data=grouped_by_year, x=\"energy\", y=\"popularity\", hue=\"explicit\") # Correlation also distribution of explicit content\n",
    "plt.title(\"Correlation between Acousticness and Energy in Songs Grouped By Year\")"
   ]
  },
  {
   "cell_type": "code",
   "execution_count": null,
   "metadata": {},
   "outputs": [],
   "source": [
    "sns.displot(grouped_by_year[\"popularity\"], kde=True) # below 0-5 should be excluded\n",
    "plt.title(\"Distribution of Popularity Metric in Songs Grouped by Year\")"
   ]
  },
  {
   "cell_type": "code",
   "execution_count": null,
   "metadata": {},
   "outputs": [],
   "source": [
    "sns.scatterplot(data=grouped_by_year[grouped_by_year[\"popularity\"] > 15], x=\"energy\", y=\"popularity\", hue=\"acousticness\")  \n",
    "plt.title(\"Correlation between Energy and Popularity [Excluding Right Tail]\") # Exclude right tail"
   ]
  },
  {
   "cell_type": "code",
   "execution_count": null,
   "metadata": {},
   "outputs": [],
   "source": [
    "sns.scatterplot(data=data, x=\"energy\", y=\"popularity\", hue=\"explicit\") # Classification might be implemented\n",
    "plt.title(\"Distribution of Explicit Songs given Acousticness and Energy\")"
   ]
  },
  {
   "cell_type": "code",
   "execution_count": null,
   "metadata": {},
   "outputs": [],
   "source": [
    "sns.scatterplot(data=grouped_by_year, x=\"acousticness\", y=\"energy\") # inverse proportion\n",
    "plt.title(\"Correlation between Acousticness and Energy\")"
   ]
  },
  {
   "cell_type": "code",
   "execution_count": null,
   "metadata": {},
   "outputs": [],
   "source": [
    "sns.heatmap(data=grouped_by_year[[\"energy\", \"acousticness\"]]) # given that energy is increasing through years\n",
    "plt.title(\"Heatmap between Acousticness and Energy\")          # acousticness "
   ]
  },
  {
   "cell_type": "code",
   "execution_count": null,
   "metadata": {},
   "outputs": [],
   "source": [
    "sns.displot(grouped_by_year[\"duration_ms\"], kde=True, color = 'blue') # there is a grouping between 240000-260000\n",
    "plt.title(\"Distribution of Duration Metric in Points Grouped by Year\") # Not a valid metric"
   ]
  },
  {
   "cell_type": "code",
   "execution_count": null,
   "metadata": {},
   "outputs": [],
   "source": [
    "sns.displot(data[\"duration_ms\"], kde=True, color = 'blue') # more significant in whole data\n",
    "plt.title(\"Distribution of Duration Metric in Points Grouped by Year\")"
   ]
  }
 ],
 "metadata": {
  "kernelspec": {
   "display_name": "Python 3",
   "language": "python",
   "name": "python3"
  },
  "language_info": {
   "codemirror_mode": {
    "name": "ipython",
    "version": 3
   },
   "file_extension": ".py",
   "mimetype": "text/x-python",
   "name": "python",
   "nbconvert_exporter": "python",
   "pygments_lexer": "ipython3",
   "version": "3.8.5"
  }
 },
 "nbformat": 4,
 "nbformat_minor": 4
}
